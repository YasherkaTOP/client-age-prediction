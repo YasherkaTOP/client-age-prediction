{
 "cells": [
  {
   "cell_type": "markdown",
   "id": "e1e2f8cc",
   "metadata": {},
   "source": [
    "# Решение задачи контеста \"Уроки настоящего от Сбербанка\""
   ]
  },
  {
   "cell_type": "markdown",
   "id": "91b7b5c8",
   "metadata": {},
   "source": [
    "## Импорт необходимых библиотек"
   ]
  },
  {
   "cell_type": "code",
   "execution_count": 1,
   "id": "07d31543",
   "metadata": {},
   "outputs": [],
   "source": [
    "import pandas as pd\n",
    "import numpy as np\n",
    "from catboost import CatBoostClassifier\n",
    "import optuna\n",
    "from optuna.samplers import TPESampler\n",
    "from sklearn.model_selection import train_test_split\n",
    "from sklearn.metrics import accuracy_score, precision_score, recall_score, f1_score, roc_auc_score\n",
    "import torch\n",
    "import pytorch_lightning as pl\n",
    "from ptls.preprocessing import PandasDataPreprocessor"
   ]
  },
  {
   "cell_type": "markdown",
   "id": "cd61d4e5",
   "metadata": {},
   "source": [
    "## Импорт необходимых файлов"
   ]
  },
  {
   "cell_type": "code",
   "execution_count": 2,
   "id": "5c1b74e5",
   "metadata": {},
   "outputs": [
    {
     "data": {
      "text/html": [
       "<div>\n",
       "<style scoped>\n",
       "    .dataframe tbody tr th:only-of-type {\n",
       "        vertical-align: middle;\n",
       "    }\n",
       "\n",
       "    .dataframe tbody tr th {\n",
       "        vertical-align: top;\n",
       "    }\n",
       "\n",
       "    .dataframe thead th {\n",
       "        text-align: right;\n",
       "    }\n",
       "</style>\n",
       "<table border=\"1\" class=\"dataframe\">\n",
       "  <thead>\n",
       "    <tr style=\"text-align: right;\">\n",
       "      <th></th>\n",
       "      <th>client_id</th>\n",
       "      <th>bins</th>\n",
       "    </tr>\n",
       "  </thead>\n",
       "  <tbody>\n",
       "    <tr>\n",
       "      <th>0</th>\n",
       "      <td>24662</td>\n",
       "      <td>2</td>\n",
       "    </tr>\n",
       "    <tr>\n",
       "      <th>1</th>\n",
       "      <td>1046</td>\n",
       "      <td>0</td>\n",
       "    </tr>\n",
       "    <tr>\n",
       "      <th>2</th>\n",
       "      <td>34089</td>\n",
       "      <td>2</td>\n",
       "    </tr>\n",
       "    <tr>\n",
       "      <th>3</th>\n",
       "      <td>34848</td>\n",
       "      <td>1</td>\n",
       "    </tr>\n",
       "    <tr>\n",
       "      <th>4</th>\n",
       "      <td>47076</td>\n",
       "      <td>3</td>\n",
       "    </tr>\n",
       "  </tbody>\n",
       "</table>\n",
       "</div>"
      ],
      "text/plain": [
       "   client_id  bins\n",
       "0      24662     2\n",
       "1       1046     0\n",
       "2      34089     2\n",
       "3      34848     1\n",
       "4      47076     3"
      ]
     },
     "execution_count": 2,
     "metadata": {},
     "output_type": "execute_result"
    }
   ],
   "source": [
    "train_target = pd.read_csv(\"train_target.csv\")\n",
    "train_target.head()"
   ]
  },
  {
   "cell_type": "code",
   "execution_count": 3,
   "id": "70d1e74f",
   "metadata": {},
   "outputs": [
    {
     "data": {
      "text/html": [
       "<div>\n",
       "<style scoped>\n",
       "    .dataframe tbody tr th:only-of-type {\n",
       "        vertical-align: middle;\n",
       "    }\n",
       "\n",
       "    .dataframe tbody tr th {\n",
       "        vertical-align: top;\n",
       "    }\n",
       "\n",
       "    .dataframe thead th {\n",
       "        text-align: right;\n",
       "    }\n",
       "</style>\n",
       "<table border=\"1\" class=\"dataframe\">\n",
       "  <thead>\n",
       "    <tr style=\"text-align: right;\">\n",
       "      <th></th>\n",
       "      <th>client_id</th>\n",
       "      <th>trans_date</th>\n",
       "      <th>small_group</th>\n",
       "      <th>amount_rur</th>\n",
       "    </tr>\n",
       "  </thead>\n",
       "  <tbody>\n",
       "    <tr>\n",
       "      <th>0</th>\n",
       "      <td>33172</td>\n",
       "      <td>6</td>\n",
       "      <td>4</td>\n",
       "      <td>71.463</td>\n",
       "    </tr>\n",
       "    <tr>\n",
       "      <th>1</th>\n",
       "      <td>33172</td>\n",
       "      <td>6</td>\n",
       "      <td>35</td>\n",
       "      <td>45.017</td>\n",
       "    </tr>\n",
       "    <tr>\n",
       "      <th>2</th>\n",
       "      <td>33172</td>\n",
       "      <td>8</td>\n",
       "      <td>11</td>\n",
       "      <td>13.887</td>\n",
       "    </tr>\n",
       "    <tr>\n",
       "      <th>3</th>\n",
       "      <td>33172</td>\n",
       "      <td>9</td>\n",
       "      <td>11</td>\n",
       "      <td>15.983</td>\n",
       "    </tr>\n",
       "    <tr>\n",
       "      <th>4</th>\n",
       "      <td>33172</td>\n",
       "      <td>10</td>\n",
       "      <td>11</td>\n",
       "      <td>21.341</td>\n",
       "    </tr>\n",
       "  </tbody>\n",
       "</table>\n",
       "</div>"
      ],
      "text/plain": [
       "   client_id  trans_date  small_group  amount_rur\n",
       "0      33172           6            4      71.463\n",
       "1      33172           6           35      45.017\n",
       "2      33172           8           11      13.887\n",
       "3      33172           9           11      15.983\n",
       "4      33172          10           11      21.341"
      ]
     },
     "execution_count": 3,
     "metadata": {},
     "output_type": "execute_result"
    }
   ],
   "source": [
    "transactions_train = pd.read_csv(\"transactions_train.csv\")\n",
    "transactions_train.head()"
   ]
  },
  {
   "cell_type": "code",
   "execution_count": 4,
   "id": "d79f91c9",
   "metadata": {},
   "outputs": [
    {
     "data": {
      "text/plain": [
       "202"
      ]
     },
     "execution_count": 4,
     "metadata": {},
     "output_type": "execute_result"
    }
   ],
   "source": [
    "len(transactions_train[\"small_group\"].unique())"
   ]
  },
  {
   "cell_type": "markdown",
   "id": "27007687",
   "metadata": {},
   "source": [
    "## Data Preprocessing & Feature Engineering"
   ]
  },
  {
   "cell_type": "code",
   "execution_count": 5,
   "id": "a3c56544",
   "metadata": {},
   "outputs": [],
   "source": [
    "preprocessor = PandasDataPreprocessor(\n",
    "    col_id=\"client_id\",\n",
    "    col_event_time=\"trans_date\",\n",
    "    event_time_transformation=\"none\",\n",
    "    cols_category=[\"small_group\"],\n",
    "    cols_numerical=[\"amount_rur\"],\n",
    "    return_records=True,\n",
    ")"
   ]
  },
  {
   "cell_type": "code",
   "execution_count": 6,
   "id": "aeba821b",
   "metadata": {},
   "outputs": [],
   "source": [
    "dataset = preprocessor.fit_transform(transactions_train)"
   ]
  },
  {
   "cell_type": "code",
   "execution_count": 7,
   "id": "28aa7e75",
   "metadata": {},
   "outputs": [],
   "source": [
    "dataset = sorted(dataset, key=lambda x: x['client_id'])"
   ]
  },
  {
   "cell_type": "code",
   "execution_count": 8,
   "id": "626bfb3f",
   "metadata": {},
   "outputs": [],
   "source": [
    "from functools import partial\n",
    "from ptls.nn import TrxEncoder, RnnSeqEncoder\n",
    "from ptls.frames.coles import CoLESModule\n",
    "\n",
    "trx_encoder_params = dict(\n",
    "    embeddings_noise=0.003,\n",
    "    numeric_values={\"amount_rur\": \"identity\"},\n",
    "    embeddings={\n",
    "        \"trans_date\": {\"in\" : 800, \"out\":16},\n",
    "        \"small_group\": {\"in\" : 250, \"out\":16}\n",
    "    },\n",
    ")\n",
    "\n",
    "seq_econderr = RnnSeqEncoder(\n",
    "    trx_encoder=TrxEncoder(**trx_encoder_params),\n",
    "    hidden_size=256,\n",
    "    type=\"gru\",\n",
    ")\n",
    "\n",
    "model = CoLESModule(\n",
    "    seq_encoder=seq_econderr,\n",
    "    optimizer_partial=partial(torch.optim.Adam, lr=0.001),\n",
    "    lr_scheduler_partial=partial(torch.optim.lr_scheduler.StepLR, step_size=30, gamma=0.9),\n",
    ")"
   ]
  },
  {
   "cell_type": "code",
   "execution_count": 9,
   "id": "482b0263",
   "metadata": {},
   "outputs": [],
   "source": [
    "from ptls.data_load.datasets import MemoryMapDataset\n",
    "from ptls.data_load.iterable_processing import SeqLenFilter\n",
    "from ptls.frames.coles import ColesDataset\n",
    "from ptls.frames.coles.split_strategy import SampleSlices\n",
    "from ptls.frames import PtlsDataModule\n",
    "\n",
    "train_dl = PtlsDataModule(\n",
    "    train_data=ColesDataset(\n",
    "        MemoryMapDataset(\n",
    "            data=dataset,\n",
    "            i_filters=[\n",
    "                SeqLenFilter(min_seq_len=25),\n",
    "            ],\n",
    "        ),\n",
    "        splitter=SampleSlices(\n",
    "            split_count=5,\n",
    "            cnt_min=25,\n",
    "            cnt_max=200,\n",
    "        ),\n",
    "    ),\n",
    "    train_num_workers=16,\n",
    "    train_batch_size=256,\n",
    ")"
   ]
  },
  {
   "cell_type": "code",
   "execution_count": 10,
   "id": "57fa76ab",
   "metadata": {},
   "outputs": [
    {
     "name": "stderr",
     "output_type": "stream",
     "text": [
      "GPU available: True, used: True\n",
      "TPU available: False, using: 0 TPU cores\n",
      "IPU available: False, using: 0 IPUs\n",
      "HPU available: False, using: 0 HPUs\n"
     ]
    }
   ],
   "source": [
    "trainer = pl.Trainer(\n",
    "    gpus=1,\n",
    "    max_epochs=15,\n",
    "    enable_progress_bar=False,\n",
    ")"
   ]
  },
  {
   "cell_type": "code",
   "execution_count": null,
   "id": "3a20bdd3",
   "metadata": {},
   "outputs": [],
   "source": [
    "trainer.fit(model, train_dl)"
   ]
  },
  {
   "cell_type": "code",
   "execution_count": null,
   "id": "657bb495",
   "metadata": {},
   "outputs": [],
   "source": [
    "train_dl = inference_data_loader(dataset, num_workers=1, batch_size=256)\n",
    "train_embeds = torch.vstack(trainer.predict(model, train_dl, ))\n",
    "\n",
    "df_target = df_target.set_index('client_id')\n",
    "df_target.rename(columns={\"bins\": \"target\"}, inplace=True)\n",
    "\n",
    "train_df = pd.DataFrame(data=train_embeds, columns=[f'embed_{i}' for i in range(train_embeds.shape[1])])\n",
    "train_df['client_id'] = [x['client_id'] for x in dataset]\n",
    "train_df = train_df.merge(df_target, how='left', on='client_id')\n",
    "\n",
    "train_df.to_csv(\"ReadyData.csv\")"
   ]
  },
  {
   "cell_type": "code",
   "execution_count": 2,
   "id": "4815d1a5",
   "metadata": {},
   "outputs": [],
   "source": [
    "train = pd.read_csv(\"ReadyData.csv\")"
   ]
  },
  {
   "cell_type": "code",
   "execution_count": 3,
   "id": "129fdd6f",
   "metadata": {},
   "outputs": [
    {
     "data": {
      "text/html": [
       "<div>\n",
       "<style scoped>\n",
       "    .dataframe tbody tr th:only-of-type {\n",
       "        vertical-align: middle;\n",
       "    }\n",
       "\n",
       "    .dataframe tbody tr th {\n",
       "        vertical-align: top;\n",
       "    }\n",
       "\n",
       "    .dataframe thead th {\n",
       "        text-align: right;\n",
       "    }\n",
       "</style>\n",
       "<table border=\"1\" class=\"dataframe\">\n",
       "  <thead>\n",
       "    <tr style=\"text-align: right;\">\n",
       "      <th></th>\n",
       "      <th>Unnamed: 0</th>\n",
       "      <th>embed_0</th>\n",
       "      <th>embed_1</th>\n",
       "      <th>embed_2</th>\n",
       "      <th>embed_3</th>\n",
       "      <th>embed_4</th>\n",
       "      <th>embed_5</th>\n",
       "      <th>embed_6</th>\n",
       "      <th>embed_7</th>\n",
       "      <th>embed_8</th>\n",
       "      <th>...</th>\n",
       "      <th>embed_248</th>\n",
       "      <th>embed_249</th>\n",
       "      <th>embed_250</th>\n",
       "      <th>embed_251</th>\n",
       "      <th>embed_252</th>\n",
       "      <th>embed_253</th>\n",
       "      <th>embed_254</th>\n",
       "      <th>embed_255</th>\n",
       "      <th>client_id</th>\n",
       "      <th>target</th>\n",
       "    </tr>\n",
       "  </thead>\n",
       "  <tbody>\n",
       "    <tr>\n",
       "      <th>0</th>\n",
       "      <td>0</td>\n",
       "      <td>0.550283</td>\n",
       "      <td>-0.743802</td>\n",
       "      <td>0.258525</td>\n",
       "      <td>0.196788</td>\n",
       "      <td>-0.704841</td>\n",
       "      <td>-0.575365</td>\n",
       "      <td>-0.448614</td>\n",
       "      <td>-0.458896</td>\n",
       "      <td>0.185826</td>\n",
       "      <td>...</td>\n",
       "      <td>0.936090</td>\n",
       "      <td>0.420376</td>\n",
       "      <td>-0.442848</td>\n",
       "      <td>0.029085</td>\n",
       "      <td>0.142505</td>\n",
       "      <td>-0.023947</td>\n",
       "      <td>0.529169</td>\n",
       "      <td>0.098901</td>\n",
       "      <td>4</td>\n",
       "      <td>1</td>\n",
       "    </tr>\n",
       "    <tr>\n",
       "      <th>1</th>\n",
       "      <td>1</td>\n",
       "      <td>0.467701</td>\n",
       "      <td>-0.812880</td>\n",
       "      <td>0.296666</td>\n",
       "      <td>0.246080</td>\n",
       "      <td>-0.160042</td>\n",
       "      <td>-0.671525</td>\n",
       "      <td>-0.419226</td>\n",
       "      <td>-0.421998</td>\n",
       "      <td>0.274254</td>\n",
       "      <td>...</td>\n",
       "      <td>0.954387</td>\n",
       "      <td>0.352779</td>\n",
       "      <td>-0.333821</td>\n",
       "      <td>0.123616</td>\n",
       "      <td>-0.015209</td>\n",
       "      <td>-0.156397</td>\n",
       "      <td>-0.881950</td>\n",
       "      <td>0.101844</td>\n",
       "      <td>6</td>\n",
       "      <td>1</td>\n",
       "    </tr>\n",
       "    <tr>\n",
       "      <th>2</th>\n",
       "      <td>2</td>\n",
       "      <td>0.229802</td>\n",
       "      <td>-0.601992</td>\n",
       "      <td>-0.315547</td>\n",
       "      <td>0.246109</td>\n",
       "      <td>-0.091438</td>\n",
       "      <td>-0.820852</td>\n",
       "      <td>-0.405385</td>\n",
       "      <td>-0.215355</td>\n",
       "      <td>0.081721</td>\n",
       "      <td>...</td>\n",
       "      <td>0.980902</td>\n",
       "      <td>0.162857</td>\n",
       "      <td>-0.409549</td>\n",
       "      <td>-0.378416</td>\n",
       "      <td>0.318191</td>\n",
       "      <td>0.380631</td>\n",
       "      <td>-0.486881</td>\n",
       "      <td>0.441895</td>\n",
       "      <td>7</td>\n",
       "      <td>0</td>\n",
       "    </tr>\n",
       "    <tr>\n",
       "      <th>3</th>\n",
       "      <td>3</td>\n",
       "      <td>0.381037</td>\n",
       "      <td>-0.663101</td>\n",
       "      <td>0.176540</td>\n",
       "      <td>0.224918</td>\n",
       "      <td>0.579784</td>\n",
       "      <td>-0.696203</td>\n",
       "      <td>-0.403781</td>\n",
       "      <td>-0.243248</td>\n",
       "      <td>0.213346</td>\n",
       "      <td>...</td>\n",
       "      <td>0.949700</td>\n",
       "      <td>0.193698</td>\n",
       "      <td>-0.378885</td>\n",
       "      <td>-0.167125</td>\n",
       "      <td>0.040214</td>\n",
       "      <td>0.085506</td>\n",
       "      <td>0.293191</td>\n",
       "      <td>0.238585</td>\n",
       "      <td>10</td>\n",
       "      <td>3</td>\n",
       "    </tr>\n",
       "    <tr>\n",
       "      <th>4</th>\n",
       "      <td>4</td>\n",
       "      <td>0.461295</td>\n",
       "      <td>-0.781123</td>\n",
       "      <td>0.087376</td>\n",
       "      <td>0.350959</td>\n",
       "      <td>-0.253747</td>\n",
       "      <td>-0.755780</td>\n",
       "      <td>-0.400728</td>\n",
       "      <td>-0.543225</td>\n",
       "      <td>0.278211</td>\n",
       "      <td>...</td>\n",
       "      <td>0.963110</td>\n",
       "      <td>0.017376</td>\n",
       "      <td>-0.419453</td>\n",
       "      <td>-0.190946</td>\n",
       "      <td>0.066893</td>\n",
       "      <td>-0.185198</td>\n",
       "      <td>-0.742718</td>\n",
       "      <td>0.149033</td>\n",
       "      <td>11</td>\n",
       "      <td>3</td>\n",
       "    </tr>\n",
       "  </tbody>\n",
       "</table>\n",
       "<p>5 rows × 259 columns</p>\n",
       "</div>"
      ],
      "text/plain": [
       "   Unnamed: 0   embed_0   embed_1   embed_2   embed_3   embed_4   embed_5  \\\n",
       "0           0  0.550283 -0.743802  0.258525  0.196788 -0.704841 -0.575365   \n",
       "1           1  0.467701 -0.812880  0.296666  0.246080 -0.160042 -0.671525   \n",
       "2           2  0.229802 -0.601992 -0.315547  0.246109 -0.091438 -0.820852   \n",
       "3           3  0.381037 -0.663101  0.176540  0.224918  0.579784 -0.696203   \n",
       "4           4  0.461295 -0.781123  0.087376  0.350959 -0.253747 -0.755780   \n",
       "\n",
       "    embed_6   embed_7   embed_8  ...  embed_248  embed_249  embed_250  \\\n",
       "0 -0.448614 -0.458896  0.185826  ...   0.936090   0.420376  -0.442848   \n",
       "1 -0.419226 -0.421998  0.274254  ...   0.954387   0.352779  -0.333821   \n",
       "2 -0.405385 -0.215355  0.081721  ...   0.980902   0.162857  -0.409549   \n",
       "3 -0.403781 -0.243248  0.213346  ...   0.949700   0.193698  -0.378885   \n",
       "4 -0.400728 -0.543225  0.278211  ...   0.963110   0.017376  -0.419453   \n",
       "\n",
       "   embed_251  embed_252  embed_253  embed_254  embed_255  client_id  target  \n",
       "0   0.029085   0.142505  -0.023947   0.529169   0.098901          4       1  \n",
       "1   0.123616  -0.015209  -0.156397  -0.881950   0.101844          6       1  \n",
       "2  -0.378416   0.318191   0.380631  -0.486881   0.441895          7       0  \n",
       "3  -0.167125   0.040214   0.085506   0.293191   0.238585         10       3  \n",
       "4  -0.190946   0.066893  -0.185198  -0.742718   0.149033         11       3  \n",
       "\n",
       "[5 rows x 259 columns]"
      ]
     },
     "execution_count": 3,
     "metadata": {},
     "output_type": "execute_result"
    }
   ],
   "source": [
    "train.head()"
   ]
  },
  {
   "cell_type": "markdown",
   "id": "2e487c54",
   "metadata": {},
   "source": [
    "## Разделение на X/y и train/test"
   ]
  },
  {
   "cell_type": "code",
   "execution_count": 5,
   "id": "55684fcf",
   "metadata": {},
   "outputs": [],
   "source": [
    "embed_columns = [x for x in train.columns if x.startswith('embed')]\n",
    "X, y = train[embed_columns], train['target']"
   ]
  },
  {
   "cell_type": "code",
   "execution_count": 6,
   "id": "f172cc3b",
   "metadata": {},
   "outputs": [],
   "source": [
    "X_train, X_test, y_train, y_true = train_test_split(X, y, test_size=0.2, random_state=42)"
   ]
  },
  {
   "cell_type": "markdown",
   "id": "f773e7c6",
   "metadata": {},
   "source": [
    "## Нахождение лучших параметров модели"
   ]
  },
  {
   "cell_type": "code",
   "execution_count": 11,
   "id": "7e6cf902",
   "metadata": {},
   "outputs": [
    {
     "name": "stderr",
     "output_type": "stream",
     "text": [
      "[I 2024-05-03 18:56:53,855] A new study created in memory with name: catboost\n",
      "[I 2024-05-03 18:56:58,619] Trial 0 finished with value: 0.5721666666666667 and parameters: {'learning_rate': 0.005611516415334507, 'depth': 7, 'l2_leaf_reg': 0.20890047049266686, 'random_strength': 0.0024430162614261413, 'bagging_temperature': 1.5601864044243652, 'od_type': 'IncToDec', 'od_wait': 45}. Best is trial 0 with value: 0.5721666666666667.\n",
      "[I 2024-05-03 18:57:01,028] Trial 1 finished with value: 0.5815 and parameters: {'learning_rate': 0.015930522616241012, 'depth': 6, 'l2_leaf_reg': 1.6063676259174453e-08, 'random_strength': 5.360294728728285, 'bagging_temperature': 8.324426408004218, 'od_type': 'IncToDec', 'od_wait': 17}. Best is trial 1 with value: 0.5815.\n",
      "[I 2024-05-03 18:57:03,453] Trial 2 finished with value: 0.5693333333333334 and parameters: {'learning_rate': 0.0040596116104843075, 'depth': 6, 'l2_leaf_reg': 0.00020866527711063722, 'random_strength': 4.17890272377219e-06, 'bagging_temperature': 6.118528947223795, 'od_type': 'Iter', 'od_wait': 25}. Best is trial 1 with value: 0.5815.\n",
      "[I 2024-05-03 18:57:08,221] Trial 3 finished with value: 0.5748333333333333 and parameters: {'learning_rate': 0.008168455894760165, 'depth': 7, 'l2_leaf_reg': 9.925166969962287e-07, 'random_strength': 0.00042472707398058225, 'bagging_temperature': 5.924145688620425, 'od_type': 'Iter', 'od_wait': 16}. Best is trial 1 with value: 0.5815.\n",
      "[I 2024-05-03 18:57:13,018] Trial 4 finished with value: 0.566 and parameters: {'learning_rate': 0.0013492834268013251, 'depth': 7, 'l2_leaf_reg': 45.32317553128077, 'random_strength': 0.18861495878553936, 'bagging_temperature': 3.0461376917337066, 'od_type': 'Iter', 'od_wait': 28}. Best is trial 1 with value: 0.5815.\n",
      "[I 2024-05-03 18:57:14,455] Trial 5 finished with value: 0.5501666666666667 and parameters: {'learning_rate': 0.0017541893487450805, 'depth': 5, 'l2_leaf_reg': 2.2074212100007785e-08, 'random_strength': 1.527156759251193, 'bagging_temperature': 2.587799816000169, 'od_type': 'IncToDec', 'od_wait': 31}. Best is trial 1 with value: 0.5815.\n",
      "[I 2024-05-03 18:57:15,339] Trial 6 finished with value: 0.5648333333333333 and parameters: {'learning_rate': 0.0123999678368461, 'depth': 4, 'l2_leaf_reg': 49.641657933185535, 'random_strength': 0.09466630153726856, 'bagging_temperature': 9.394989415641891, 'od_type': 'IncToDec', 'od_wait': 47}. Best is trial 1 with value: 0.5815.\n",
      "[I 2024-05-03 18:57:16,252] Trial 7 finished with value: 0.5423333333333333 and parameters: {'learning_rate': 0.0015030900645056826, 'depth': 4, 'l2_leaf_reg': 2.833171661121252e-08, 'random_strength': 8.471746987003668e-06, 'bagging_temperature': 3.8867728968948203, 'od_type': 'Iter', 'od_wait': 24}. Best is trial 1 with value: 0.5815.\n",
      "[I 2024-05-03 18:57:18,827] Trial 8 finished with value: 0.5578333333333333 and parameters: {'learning_rate': 0.0036464395589807202, 'depth': 6, 'l2_leaf_reg': 2.5659149064328484e-07, 'random_strength': 0.16587190283399655, 'bagging_temperature': 0.7455064367977082, 'od_type': 'IncToDec', 'od_wait': 18}. Best is trial 1 with value: 0.5815.\n",
      "[I 2024-05-03 18:57:23,630] Trial 9 finished with value: 0.5643333333333334 and parameters: {'learning_rate': 0.0010257563974185654, 'depth': 7, 'l2_leaf_reg': 0.11710446072783388, 'random_strength': 0.03639690979811287, 'bagging_temperature': 7.712703466859457, 'od_type': 'Iter', 'od_wait': 14}. Best is trial 1 with value: 0.5815.\n",
      "[I 2024-05-03 18:57:25,056] Trial 10 finished with value: 0.5903333333333334 and parameters: {'learning_rate': 0.06038889580599073, 'depth': 5, 'l2_leaf_reg': 4.867295652083481e-05, 'random_strength': 1.4509648127973841e-08, 'bagging_temperature': 9.826637395249174, 'od_type': 'IncToDec', 'od_wait': 36}. Best is trial 10 with value: 0.5903333333333334.\n",
      "[I 2024-05-03 18:57:26,522] Trial 11 finished with value: 0.5838333333333333 and parameters: {'learning_rate': 0.05132457064773673, 'depth': 5, 'l2_leaf_reg': 6.252337803594875e-05, 'random_strength': 1.3857876068862274e-08, 'bagging_temperature': 9.682907307941194, 'od_type': 'IncToDec', 'od_wait': 37}. Best is trial 10 with value: 0.5903333333333334.\n",
      "[I 2024-05-03 18:57:27,969] Trial 12 finished with value: 0.5918333333333333 and parameters: {'learning_rate': 0.08190378359142844, 'depth': 5, 'l2_leaf_reg': 4.019425131919634e-05, 'random_strength': 1.0935402133678982e-08, 'bagging_temperature': 9.522006333813987, 'od_type': 'IncToDec', 'od_wait': 38}. Best is trial 12 with value: 0.5918333333333333.\n",
      "[I 2024-05-03 18:57:29,386] Trial 13 finished with value: 0.5901666666666666 and parameters: {'learning_rate': 0.09942162738269651, 'depth': 5, 'l2_leaf_reg': 5.557119460253155e-06, 'random_strength': 1.351405186109859e-08, 'bagging_temperature': 7.532243940264722, 'od_type': 'IncToDec', 'od_wait': 39}. Best is trial 12 with value: 0.5918333333333333.\n",
      "[I 2024-05-03 18:57:30,820] Trial 14 finished with value: 0.5723333333333334 and parameters: {'learning_rate': 0.03164256809223535, 'depth': 5, 'l2_leaf_reg': 0.007210393738993585, 'random_strength': 4.727167587449211e-07, 'bagging_temperature': 8.659803547138923, 'od_type': 'IncToDec', 'od_wait': 38}. Best is trial 12 with value: 0.5918333333333333.\n",
      "[I 2024-05-03 18:57:31,718] Trial 15 finished with value: 0.584 and parameters: {'learning_rate': 0.09945135531416516, 'depth': 4, 'l2_leaf_reg': 0.003291681599581175, 'random_strength': 3.630266464527124e-07, 'bagging_temperature': 9.960169893612136, 'od_type': 'IncToDec', 'od_wait': 33}. Best is trial 12 with value: 0.5918333333333333.\n",
      "[I 2024-05-03 18:57:33,124] Trial 16 finished with value: 0.5756666666666667 and parameters: {'learning_rate': 0.03946796536664345, 'depth': 5, 'l2_leaf_reg': 1.6162248734210473e-05, 'random_strength': 1.1411109371056992e-07, 'bagging_temperature': 6.617702146172972, 'od_type': 'IncToDec', 'od_wait': 41}. Best is trial 12 with value: 0.5918333333333333.\n",
      "[I 2024-05-03 18:57:35,641] Trial 17 finished with value: 0.5785 and parameters: {'learning_rate': 0.020009438088613222, 'depth': 6, 'l2_leaf_reg': 0.00043819252062714584, 'random_strength': 1.2531025497200882e-05, 'bagging_temperature': 4.72729133610161, 'od_type': 'IncToDec', 'od_wait': 43}. Best is trial 12 with value: 0.5918333333333333.\n",
      "[I 2024-05-03 18:57:36,533] Trial 18 finished with value: 0.5785 and parameters: {'learning_rate': 0.060925726009603526, 'depth': 4, 'l2_leaf_reg': 0.04036383835480087, 'random_strength': 4.416731702525459e-05, 'bagging_temperature': 7.2194548056070325, 'od_type': 'IncToDec', 'od_wait': 34}. Best is trial 12 with value: 0.5918333333333333.\n",
      "[I 2024-05-03 18:57:37,975] Trial 19 finished with value: 0.572 and parameters: {'learning_rate': 0.02488239163118682, 'depth': 5, 'l2_leaf_reg': 2.364610946614809e-06, 'random_strength': 9.100183059243864e-08, 'bagging_temperature': 8.654432469074795, 'od_type': 'IncToDec', 'od_wait': 23}. Best is trial 12 with value: 0.5918333333333333.\n",
      "[I 2024-05-03 18:57:40,407] Trial 20 finished with value: 0.5853333333333334 and parameters: {'learning_rate': 0.06200032663758428, 'depth': 6, 'l2_leaf_reg': 4.371079447450918e-07, 'random_strength': 7.677521994458886e-07, 'bagging_temperature': 5.505694458003196, 'od_type': 'IncToDec', 'od_wait': 36}. Best is trial 12 with value: 0.5918333333333333.\n",
      "[I 2024-05-03 18:57:41,824] Trial 21 finished with value: 0.588 and parameters: {'learning_rate': 0.09569649820018206, 'depth': 5, 'l2_leaf_reg': 1.237057799173935e-05, 'random_strength': 1.2479568884595817e-08, 'bagging_temperature': 7.663169035519727, 'od_type': 'IncToDec', 'od_wait': 41}. Best is trial 12 with value: 0.5918333333333333.\n",
      "[I 2024-05-03 18:57:43,234] Trial 22 finished with value: 0.5841666666666666 and parameters: {'learning_rate': 0.07382840492434924, 'depth': 5, 'l2_leaf_reg': 1.058539478890641e-05, 'random_strength': 1.2457404171784065e-08, 'bagging_temperature': 8.940689634779774, 'od_type': 'IncToDec', 'od_wait': 49}. Best is trial 12 with value: 0.5918333333333333.\n",
      "[I 2024-05-03 18:57:44,681] Trial 23 finished with value: 0.577 and parameters: {'learning_rate': 0.040667182979216024, 'depth': 5, 'l2_leaf_reg': 0.0001007743461686768, 'random_strength': 1.2961044484600383e-07, 'bagging_temperature': 9.895243951938477, 'od_type': 'IncToDec', 'od_wait': 10}. Best is trial 12 with value: 0.5918333333333333.\n"
     ]
    },
    {
     "name": "stderr",
     "output_type": "stream",
     "text": [
      "[I 2024-05-03 18:57:45,562] Trial 24 finished with value: 0.5838333333333333 and parameters: {'learning_rate': 0.09720432081137208, 'depth': 4, 'l2_leaf_reg': 0.0024437364251969533, 'random_strength': 1.7269547587376856e-06, 'bagging_temperature': 8.017772177273924, 'od_type': 'IncToDec', 'od_wait': 39}. Best is trial 12 with value: 0.5918333333333333.\n",
      "[I 2024-05-03 18:57:46,998] Trial 25 finished with value: 0.573 and parameters: {'learning_rate': 0.030342292102888278, 'depth': 5, 'l2_leaf_reg': 4.127661140979095e-06, 'random_strength': 5.328962903395931e-08, 'bagging_temperature': 8.982706946943985, 'od_type': 'IncToDec', 'od_wait': 30}. Best is trial 12 with value: 0.5918333333333333.\n",
      "[I 2024-05-03 18:57:49,494] Trial 26 finished with value: 0.5873333333333334 and parameters: {'learning_rate': 0.04491046470104459, 'depth': 6, 'l2_leaf_reg': 4.502474458269614e-05, 'random_strength': 6.70961262232542e-05, 'bagging_temperature': 9.193473144453646, 'od_type': 'Iter', 'od_wait': 34}. Best is trial 12 with value: 0.5918333333333333.\n",
      "[I 2024-05-03 18:57:50,905] Trial 27 finished with value: 0.5851666666666666 and parameters: {'learning_rate': 0.06886666059035396, 'depth': 5, 'l2_leaf_reg': 1.5138693700057507e-07, 'random_strength': 2.8903095206788818e-08, 'bagging_temperature': 7.231687838402006, 'od_type': 'IncToDec', 'od_wait': 44}. Best is trial 12 with value: 0.5918333333333333.\n",
      "[I 2024-05-03 18:57:51,782] Trial 28 finished with value: 0.5773333333333334 and parameters: {'learning_rate': 0.07371937943855662, 'depth': 4, 'l2_leaf_reg': 0.0004988054088841631, 'random_strength': 2.442720228359491e-07, 'bagging_temperature': 8.106493854253188, 'od_type': 'IncToDec', 'od_wait': 40}. Best is trial 12 with value: 0.5918333333333333.\n",
      "[I 2024-05-03 18:57:53,222] Trial 29 finished with value: 0.5668333333333333 and parameters: {'learning_rate': 0.008008716488677736, 'depth': 5, 'l2_leaf_reg': 0.028835868164508786, 'random_strength': 0.0006483800326044923, 'bagging_temperature': 6.725903627575595, 'od_type': 'IncToDec', 'od_wait': 47}. Best is trial 12 with value: 0.5918333333333333.\n",
      "[I 2024-05-03 18:57:55,739] Trial 30 finished with value: 0.5813333333333334 and parameters: {'learning_rate': 0.022165082237284615, 'depth': 6, 'l2_leaf_reg': 2.236697995928448e-06, 'random_strength': 2.0960898468499005e-06, 'bagging_temperature': 5.228904017811816, 'od_type': 'IncToDec', 'od_wait': 28}. Best is trial 12 with value: 0.5918333333333333.\n",
      "[I 2024-05-03 18:57:57,139] Trial 31 finished with value: 0.5881666666666666 and parameters: {'learning_rate': 0.0961110797682754, 'depth': 5, 'l2_leaf_reg': 1.4674563932901785e-05, 'random_strength': 1.0420012891356354e-08, 'bagging_temperature': 7.574536553681605, 'od_type': 'IncToDec', 'od_wait': 42}. Best is trial 12 with value: 0.5918333333333333.\n",
      "[I 2024-05-03 18:57:58,548] Trial 32 finished with value: 0.583 and parameters: {'learning_rate': 0.0508234337960243, 'depth': 5, 'l2_leaf_reg': 2.1290016465008437, 'random_strength': 3.406353514244662e-08, 'bagging_temperature': 4.50458986213018, 'od_type': 'IncToDec', 'od_wait': 43}. Best is trial 12 with value: 0.5918333333333333.\n",
      "[I 2024-05-03 18:57:59,963] Trial 33 finished with value: 0.5848333333333333 and parameters: {'learning_rate': 0.07576865273136295, 'depth': 5, 'l2_leaf_reg': 4.150445866471125e-05, 'random_strength': 1.0294852834093513e-08, 'bagging_temperature': 6.907653232124705, 'od_type': 'IncToDec', 'od_wait': 35}. Best is trial 12 with value: 0.5918333333333333.\n",
      "[I 2024-05-03 18:58:02,518] Trial 34 finished with value: 0.5883333333333334 and parameters: {'learning_rate': 0.03379341621925441, 'depth': 6, 'l2_leaf_reg': 0.000259300333383447, 'random_strength': 6.573257979255825e-08, 'bagging_temperature': 8.567050650568925, 'od_type': 'IncToDec', 'od_wait': 45}. Best is trial 12 with value: 0.5918333333333333.\n",
      "[I 2024-05-03 18:58:05,010] Trial 35 finished with value: 0.5845 and parameters: {'learning_rate': 0.031207303613441355, 'depth': 6, 'l2_leaf_reg': 0.00017090172266441257, 'random_strength': 0.0071068174982165215, 'bagging_temperature': 8.511222015980147, 'od_type': 'Iter', 'od_wait': 46}. Best is trial 12 with value: 0.5918333333333333.\n",
      "[I 2024-05-03 18:58:07,514] Trial 36 finished with value: 0.5763333333333334 and parameters: {'learning_rate': 0.014420001635842044, 'depth': 6, 'l2_leaf_reg': 0.00022204087711626317, 'random_strength': 7.544784589919708e-08, 'bagging_temperature': 9.37218496166868, 'od_type': 'IncToDec', 'od_wait': 50}. Best is trial 12 with value: 0.5918333333333333.\n",
      "[I 2024-05-03 18:58:12,285] Trial 37 finished with value: 0.5935 and parameters: {'learning_rate': 0.053097546631694616, 'depth': 7, 'l2_leaf_reg': 0.0012124085987446998, 'random_strength': 7.486033408850149e-07, 'bagging_temperature': 8.339494189440027, 'od_type': 'Iter', 'od_wait': 38}. Best is trial 37 with value: 0.5935.\n",
      "[I 2024-05-03 18:58:17,126] Trial 38 finished with value: 0.5963333333333334 and parameters: {'learning_rate': 0.051206836796495264, 'depth': 7, 'l2_leaf_reg': 0.00246329990831736, 'random_strength': 1.1517701404971383e-06, 'bagging_temperature': 5.951240849497208, 'od_type': 'Iter', 'od_wait': 32}. Best is trial 38 with value: 0.5963333333333334.\n",
      "[I 2024-05-03 18:58:21,993] Trial 39 finished with value: 0.5728333333333333 and parameters: {'learning_rate': 0.0027428917946192596, 'depth': 7, 'l2_leaf_reg': 0.9109153947007699, 'random_strength': 2.0336665339843966e-05, 'bagging_temperature': 6.1194977991848285, 'od_type': 'Iter', 'od_wait': 31}. Best is trial 38 with value: 0.5963333333333334.\n",
      "[I 2024-05-03 18:58:26,940] Trial 40 finished with value: 0.5808333333333333 and parameters: {'learning_rate': 0.009696821856699428, 'depth': 7, 'l2_leaf_reg': 0.0009083690349470845, 'random_strength': 1.495384739262762e-06, 'bagging_temperature': 2.4351455447877193, 'od_type': 'Iter', 'od_wait': 27}. Best is trial 38 with value: 0.5963333333333334.\n",
      "[I 2024-05-03 18:58:31,812] Trial 41 finished with value: 0.587 and parameters: {'learning_rate': 0.05532321181749864, 'depth': 7, 'l2_leaf_reg': 0.002035367323309103, 'random_strength': 0.00018822543255176633, 'bagging_temperature': 6.211476627541304, 'od_type': 'Iter', 'od_wait': 32}. Best is trial 38 with value: 0.5963333333333334.\n",
      "[I 2024-05-03 18:58:36,672] Trial 42 finished with value: 0.5945 and parameters: {'learning_rate': 0.07831707785832402, 'depth': 7, 'l2_leaf_reg': 0.006590252358427226, 'random_strength': 1.9665187209517508e-07, 'bagging_temperature': 9.479133876168952, 'od_type': 'Iter', 'od_wait': 37}. Best is trial 38 with value: 0.5963333333333334.\n",
      "[I 2024-05-03 18:58:41,563] Trial 43 finished with value: 0.5813333333333334 and parameters: {'learning_rate': 0.047148258884039417, 'depth': 7, 'l2_leaf_reg': 0.010239512837290772, 'random_strength': 3.978790825653598e-06, 'bagging_temperature': 9.508380949542058, 'od_type': 'Iter', 'od_wait': 37}. Best is trial 38 with value: 0.5963333333333334.\n",
      "[I 2024-05-03 18:58:46,381] Trial 44 finished with value: 0.5941666666666666 and parameters: {'learning_rate': 0.07746099057787494, 'depth': 7, 'l2_leaf_reg': 0.010668473203419928, 'random_strength': 1.9711756675358586e-07, 'bagging_temperature': 9.98640932559286, 'od_type': 'Iter', 'od_wait': 36}. Best is trial 38 with value: 0.5963333333333334.\n",
      "[I 2024-05-03 18:58:51,238] Trial 45 finished with value: 0.604 and parameters: {'learning_rate': 0.074043090340053, 'depth': 7, 'l2_leaf_reg': 0.40118576669611555, 'random_strength': 2.8533244473872057e-07, 'bagging_temperature': 0.04069232418913327, 'od_type': 'Iter', 'od_wait': 28}. Best is trial 45 with value: 0.604.\n",
      "[I 2024-05-03 18:58:56,115] Trial 46 finished with value: 0.5671666666666667 and parameters: {'learning_rate': 0.0052686550698933, 'depth': 7, 'l2_leaf_reg': 0.43580413789924133, 'random_strength': 4.892096331630327e-06, 'bagging_temperature': 0.6326306921308291, 'od_type': 'Iter', 'od_wait': 22}. Best is trial 45 with value: 0.604.\n",
      "[I 2024-05-03 18:59:00,953] Trial 47 finished with value: 0.5943333333333334 and parameters: {'learning_rate': 0.0402005722064761, 'depth': 7, 'l2_leaf_reg': 6.559829815531801, 'random_strength': 9.271336354259417e-07, 'bagging_temperature': 1.617947596651568, 'od_type': 'Iter', 'od_wait': 26}. Best is trial 45 with value: 0.604.\n"
     ]
    },
    {
     "name": "stderr",
     "output_type": "stream",
     "text": [
      "[I 2024-05-03 18:59:05,787] Trial 48 finished with value: 0.6015 and parameters: {'learning_rate': 0.07967998187204604, 'depth': 7, 'l2_leaf_reg': 12.686065250379805, 'random_strength': 2.4926243061488633e-07, 'bagging_temperature': 0.1512934447547737, 'od_type': 'Iter', 'od_wait': 26}. Best is trial 45 with value: 0.604.\n",
      "[I 2024-05-03 18:59:10,636] Trial 49 finished with value: 0.5915 and parameters: {'learning_rate': 0.04174945494964402, 'depth': 7, 'l2_leaf_reg': 12.303736013340204, 'random_strength': 6.104310175619004e-07, 'bagging_temperature': 0.0812160533380291, 'od_type': 'Iter', 'od_wait': 19}. Best is trial 45 with value: 0.604.\n"
     ]
    },
    {
     "name": "stdout",
     "output_type": "stream",
     "text": [
      "Number of finished trials:  50\n",
      "Best trial:\n",
      "  Value:  0.604\n",
      "  Params: \n",
      "    learning_rate: 0.074043090340053\n",
      "    depth: 7\n",
      "    l2_leaf_reg: 0.40118576669611555\n",
      "    random_strength: 2.8533244473872057e-07\n",
      "    bagging_temperature: 0.04069232418913327\n",
      "    od_type: Iter\n",
      "    od_wait: 28\n"
     ]
    }
   ],
   "source": [
    "def objective(trial):\n",
    "    model = CatBoostClassifier(\n",
    "        iterations=100,\n",
    "        learning_rate=trial.suggest_float(\"learning_rate\", 1e-3, 1e-1, log=True),\n",
    "        depth=trial.suggest_int(\"depth\", 4, 7),\n",
    "        l2_leaf_reg=trial.suggest_float(\"l2_leaf_reg\", 1e-8, 100.0, log=True),\n",
    "        random_strength=trial.suggest_float(\"random_strength\", 1e-8, 10.0, log=True),\n",
    "        bagging_temperature=trial.suggest_float(\"bagging_temperature\", 0.0, 10.0),\n",
    "        od_type=trial.suggest_categorical(\"od_type\", [\"IncToDec\", \"Iter\"]),\n",
    "        od_wait=trial.suggest_int(\"od_wait\", 10, 50),\n",
    "        verbose=False,\n",
    "        loss_function='MultiClass',\n",
    "        random_seed=42\n",
    "    )\n",
    "    model.fit(X_train, y_train)\n",
    "    y_pred = model.predict(X_test)\n",
    "    return accuracy_score(y_true, y_pred)\n",
    "\n",
    "sampler = TPESampler(seed=42)\n",
    "study = optuna.create_study(study_name=\"catboost\", direction=\"maximize\", sampler=sampler)\n",
    "study.optimize(objective, n_trials=50)\n",
    "\n",
    "print(\"Number of finished trials: \", len(study.trials))\n",
    "print(\"Best trial:\")\n",
    "trial = study.best_trial\n",
    "print(\"  Value: \", trial.value)\n",
    "print(\"  Params: \")\n",
    "for key, value in trial.params.items():\n",
    "    print(\"    {}: {}\".format(key, value))"
   ]
  },
  {
   "cell_type": "markdown",
   "id": "f211208b",
   "metadata": {},
   "source": [
    "## Обучение и тест модели"
   ]
  },
  {
   "cell_type": "code",
   "execution_count": 36,
   "id": "7d1ddc44",
   "metadata": {},
   "outputs": [
    {
     "data": {
      "text/plain": [
       "<catboost.core.CatBoostClassifier at 0x1f91da8ed10>"
      ]
     },
     "execution_count": 36,
     "metadata": {},
     "output_type": "execute_result"
    }
   ],
   "source": [
    "model = CatBoostClassifier(verbose=False,\n",
    "                           iterations=1000,\n",
    "                           depth=7,\n",
    "                           loss_function='MultiClass',\n",
    "                           od_wait=28,\n",
    "                           od_type=\"Iter\",\n",
    "                           learning_rate=0.074043090340053,\n",
    "                           l2_leaf_reg=0.40118576669611555,\n",
    "                           bagging_temperature=0.04069232418913327,\n",
    "                           random_strength=2.8533244473872057e-07,\n",
    "                           custom_metric=['Accuracy'], \n",
    "                           random_seed=42)\n",
    "                            \n",
    "model.fit(X_train, y_train)"
   ]
  },
  {
   "cell_type": "code",
   "execution_count": 37,
   "id": "f58fce68",
   "metadata": {},
   "outputs": [],
   "source": [
    "y_pred = model.predict(X_test)"
   ]
  },
  {
   "cell_type": "code",
   "execution_count": 38,
   "id": "3fbd816e",
   "metadata": {},
   "outputs": [
    {
     "name": "stdout",
     "output_type": "stream",
     "text": [
      "Accuracy: 0.6091666666666666\n",
      "Precision: 0.601000004218956\n",
      "Recall: 0.6047757840587127\n",
      "F1 Score: 0.6025219503147262\n"
     ]
    }
   ],
   "source": [
    "accuracy = accuracy_score(y_true, y_pred)\n",
    "precision = precision_score(y_true, y_pred, average='macro')\n",
    "recall = recall_score(y_true, y_pred, average='macro')\n",
    "f1 = f1_score(y_true, y_pred, average='macro')\n",
    "\n",
    "print(\"Accuracy:\", accuracy)\n",
    "print(\"Precision:\", precision)\n",
    "print(\"Recall:\", recall)\n",
    "print(\"F1 Score:\", f1)"
   ]
  },
  {
   "cell_type": "markdown",
   "id": "8c211cea",
   "metadata": {},
   "source": [
    "## Обучение модели на полных данных и сохранение в файл"
   ]
  },
  {
   "cell_type": "code",
   "execution_count": 39,
   "id": "b639fbdf",
   "metadata": {},
   "outputs": [],
   "source": [
    "model = CatBoostClassifier(verbose=False,\n",
    "                           iterations=1000,\n",
    "                           depth=7,\n",
    "                           loss_function='MultiClass',\n",
    "                           od_wait=28,\n",
    "                           od_type=\"Iter\",\n",
    "                           learning_rate=0.074043090340053,\n",
    "                           l2_leaf_reg=0.40118576669611555,\n",
    "                           bagging_temperature=0.04069232418913327,\n",
    "                           random_strength=2.8533244473872057e-07,\n",
    "                           custom_metric=['Accuracy'], \n",
    "                           random_seed=42)\n",
    "model.fit(X, y)\n",
    "model.save_model(\"model_with_lifestream\", format=\"cbm\", export_parameters=None, pool=None)"
   ]
  }
 ],
 "metadata": {
  "kernelspec": {
   "display_name": "Python 3 (ipykernel)",
   "language": "python",
   "name": "python3"
  },
  "language_info": {
   "codemirror_mode": {
    "name": "ipython",
    "version": 3
   },
   "file_extension": ".py",
   "mimetype": "text/x-python",
   "name": "python",
   "nbconvert_exporter": "python",
   "pygments_lexer": "ipython3",
   "version": "3.11.3"
  }
 },
 "nbformat": 4,
 "nbformat_minor": 5
}
